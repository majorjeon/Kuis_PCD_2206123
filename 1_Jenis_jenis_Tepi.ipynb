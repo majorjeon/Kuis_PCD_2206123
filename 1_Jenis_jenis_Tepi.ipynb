{
  "nbformat": 4,
  "nbformat_minor": 0,
  "metadata": {
    "colab": {
      "provenance": []
    },
    "kernelspec": {
      "name": "python3",
      "display_name": "Python 3"
    },
    "language_info": {
      "name": "python"
    }
  },
  "cells": [
    {
      "cell_type": "markdown",
      "source": [
        "# jenis - jenis Tepi"
      ],
      "metadata": {
        "id": "pEmRSdY9zpAN"
      }
    },
    {
      "cell_type": "markdown",
      "source": [
        "Dalam citra digital, tepi adalah transisi intensitas yang signifikan dalam gambar yang biasanya menunjukkan batas antara objek atau area berbeda. Berikut adalah empat jenis tepi yang sering ditemukan:\n",
        "\n",
        "1. Tepi Langkah (Step Edge)\n",
        "Deskripsi: Tepi ini terjadi ketika intensitas berubah secara mendadak dari satu level ke level lain tanpa transisi bertahap. Biasanya menunjukkan batas jelas antara dua objek.\n",
        "Contoh:\n",
        "Bayangan tajam pada tembok akibat cahaya matahari.\n",
        "Pinggiran meja yang terlihat jelas dalam foto.\n",
        "2. Tepi Atap (Roof Edge)\n",
        "Deskripsi: Tepi ini memiliki perubahan intensitas yang lebih halus, seperti bentuk atap, dengan transisi bertahap sebelum mencapai puncaknya. Biasanya muncul pada area dengan gradien cahaya.\n",
        "Contoh:\n",
        "Gradien warna langit saat matahari terbenam.\n",
        "Perubahan cahaya yang halus di dinding ketika diterangi oleh lampu yang menyebar.\n",
        "3. Tepi Garis (Line Edge)\n",
        "Deskripsi: Tepi ini terjadi ketika ada perubahan intensitas seperti garis tipis, di mana intensitas naik dan turun secara cepat di area kecil.\n",
        "Contoh:\n",
        "Kabel listrik yang terlihat di langit dalam foto.\n",
        "Garis batas zebra cross di jalan.\n",
        "4. Tepi Sudut (Corner Edge)\n",
        "Deskripsi: Tepi ini muncul di mana dua tepi bertemu, biasanya pada sudut atau pertemuan dua permukaan.\n",
        "Contoh:\n",
        "Sudut pintu atau jendela dalam ruangan.\n",
        "Pertemuan dua sisi dinding pada sudut ruangan."
      ],
      "metadata": {
        "id": "Lh0k-afszIRe"
      }
    },
    {
      "cell_type": "markdown",
      "source": [
        "# Alasan Tepi derau memerlukan pendeteksian khusus"
      ],
      "metadata": {
        "id": "2-MJk0Uzzs7i"
      }
    },
    {
      "cell_type": "markdown",
      "source": [
        "Tepi dengan derau memerlukan pendekatan khusus untuk pendeteksian karena derau dapat mengaburkan informasi tepi yang sebenarnya. Derau sering kali menghasilkan fluktuasi intensitas acak yang menyerupai tepi, sehingga algoritma deteksi tepi dapat salah mengidentifikasi derau sebagai tepi yang valid (false positive). Selain itu, derau juga dapat melemahkan kontras tepi asli, membuatnya sulit dikenali (false negative). Karena banyak algoritma deteksi tepi, seperti Sobel atau Canny, bergantung pada perubahan gradien intensitas, derau yang mengganggu gradien ini dapat menyebabkan deteksi yang tidak konsisten. Akibatnya, lokasi tepi yang terdeteksi bisa meleset dari posisi sebenarnya. Untuk mengatasi masalah ini, biasanya digunakan filter derau seperti Gaussian sebelum proses deteksi tepi untuk mereduksi intensitas acak yang tidak relevan. Algoritma seperti Canny Edge Detector juga dirancang lebih tahan terhadap derau dengan mengombinasikan penyaringan derau, analisis gradien, dan thresholding ganda. Pendekatan ini membantu memastikan bahwa hasil deteksi tepi lebih akurat meskipun citra mengandung derau."
      ],
      "metadata": {
        "id": "TICLlIYFzLu8"
      }
    }
  ]
}