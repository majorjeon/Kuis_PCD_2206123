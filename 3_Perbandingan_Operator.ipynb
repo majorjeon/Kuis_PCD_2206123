{
  "nbformat": 4,
  "nbformat_minor": 0,
  "metadata": {
    "colab": {
      "provenance": [],
      "include_colab_link": true
    },
    "kernelspec": {
      "name": "python3",
      "display_name": "Python 3"
    },
    "language_info": {
      "name": "python"
    }
  },
  "cells": [
    {
      "cell_type": "markdown",
      "metadata": {
        "id": "view-in-github",
        "colab_type": "text"
      },
      "source": [
        "<a href=\"https://colab.research.google.com/github/majorjeon/Kuis_PCD_2206123/blob/main/3_Perbandingan_Operator.ipynb\" target=\"_parent\"><img src=\"https://colab.research.google.com/assets/colab-badge.svg\" alt=\"Open In Colab\"/></a>"
      ]
    },
    {
      "cell_type": "markdown",
      "source": [
        "# Akurasi Pendeteksian"
      ],
      "metadata": {
        "id": "W87J0gudahbd"
      }
    },
    {
      "cell_type": "markdown",
      "source": [
        "1. Sobel:\n",
        "* Akurasi sedang. Mendeteksi perubahan intensitas dalam arah horizontal dan\n",
        "vertikal menggunakan kernel berbeda.\n",
        "* Lebih sensitif terhadap derau karena tidak ada mekanisme penghalusan bawaan.\n",
        "2. Prewitt:\n",
        "* Akurasi sedikit lebih rendah dibanding Sobel, karena bobot kernel Prewitt * * * lebih sederhana dan tidak memperhatikan jarak piksel secara proporsional.\n",
        "* Cocok untuk kasus sederhana dengan derau rendah.\n",
        "3. Canny:\n",
        "* Akurasi tinggi karena menggunakan pendekatan multi-tahap: penyaringan Gaussian untuk mengurangi derau, pendeteksian gradien, penekanan non-maksimal, dan pelacakan tepi berbasis histeresis.\n",
        "* Dapat mendeteksi tepi tipis dan mengurangi false positive"
      ],
      "metadata": {
        "id": "f5cVCwcZaokh"
      }
    },
    {
      "cell_type": "markdown",
      "source": [
        "# Kompleksitas Komputasi"
      ],
      "metadata": {
        "id": "K1bWrnXHaiA7"
      }
    },
    {
      "cell_type": "markdown",
      "source": [
        "1. Sobel:\n",
        "* Kompleksitas rendah. Hanya melibatkan konvolusi sederhana dengan kernel tetap.\n",
        "* Cocok untuk aplikasi real-time atau perangkat dengan sumber daya terbatas.\n",
        "2. Prewitt:\n",
        "* Kompleksitas serupa dengan Sobel, bahkan sedikit lebih rendah karena kernel sederhana.\n",
        "* Digunakan untuk operasi yang cepat tetapi tidak memerlukan akurasi tinggi.\n",
        "3. Canny:\n",
        "* Kompleksitas tinggi. Melibatkan beberapa langkah: penghalusan, gradien, dan pelacakan tepi.\n",
        "* Memerlukan lebih banyak waktu dan memori dibanding Sobel atau Prewitt, sehingga kurang ideal untuk sistem yang memiliki batasan waktu atau daya komputasi."
      ],
      "metadata": {
        "id": "iV6HmFkAbR6B"
      }
    },
    {
      "cell_type": "markdown",
      "source": [
        "# Situasi Canny direkomendasikan"
      ],
      "metadata": {
        "id": "igjdpzfjaimn"
      }
    },
    {
      "cell_type": "markdown",
      "source": [
        "Operator Canny direkomendasikan dalam situasi berikut:\n",
        "1. Kualitas citra rendah: Banyak derau atau gradien intensitas yang lemah.\n",
        "2. Akurasi tinggi diperlukan: Misalnya, dalam pengenalan objek atau analisis medis.\n",
        "3. Pemrosesan waktu nyata bukan prioritas utama: Karena kompleksitasnya, Canny kurang cocok untuk aplikasi real-time dengan sumber daya terbatas.\n",
        "Sebaliknya, untuk tugas deteksi tepi sederhana atau jika pemrosesan cepat lebih penting daripada akurasi, Sobel atau Prewitt lebih sesuai.\n",
        "\n"
      ],
      "metadata": {
        "id": "X8NwbSxhboAS"
      }
    }
  ]
}